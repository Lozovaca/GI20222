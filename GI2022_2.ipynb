{
 "cells": [
  {
   "cell_type": "markdown",
   "id": "38fe23fb-065d-435b-8e4e-6518adee23c4",
   "metadata": {
    "tags": []
   },
   "source": [
    "<h1> .bam file processing with pysam libary </h1>"
   ]
  },
  {
   "cell_type": "code",
   "execution_count": 7,
   "id": "23686fcf-0114-4562-959a-995a78b5982a",
   "metadata": {},
   "outputs": [
    {
     "name": "stdout",
     "output_type": "stream",
     "text": [
      "Requirement already satisfied: pysam in /opt/conda/lib/python3.9/site-packages (0.19.0)\n"
     ]
    }
   ],
   "source": [
    "!pip install pysam"
   ]
  },
  {
   "cell_type": "code",
   "execution_count": 8,
   "id": "e8b75751-2c2f-40de-9c28-a556f2f37189",
   "metadata": {
    "tags": []
   },
   "outputs": [],
   "source": [
    "import pysam"
   ]
  },
  {
   "cell_type": "code",
   "execution_count": 9,
   "id": "393d4f0e-ebb9-47cf-afb4-35487ecb8bb6",
   "metadata": {
    "tags": []
   },
   "outputs": [
    {
     "data": {
      "text/plain": [
       "0"
      ]
     },
     "execution_count": 9,
     "metadata": {},
     "output_type": "execute_result"
    }
   ],
   "source": [
    "s = pysam.set_verbosity(0)\n",
    "samfile = pysam.AlignmentFile(\"merged-tumor.bam\", \"rb\")\n",
    "pysam.set_verbosity(s)"
   ]
  },
  {
   "cell_type": "markdown",
   "id": "1640f7ea-173c-4540-b546-44206a2b3967",
   "metadata": {},
   "source": [
    "<p>Read fileds inspection </p>"
   ]
  },
  {
   "cell_type": "code",
   "execution_count": 10,
   "id": "3f104c50-c06c-4bf0-8f98-60b2c0d690d7",
   "metadata": {
    "tags": []
   },
   "outputs": [
    {
     "name": "stdout",
     "output_type": "stream",
     "text": [
      "QNAME: C0HVYACXX120402:7:1207:5722:57044\n",
      "FLAG: 1187\n",
      "RNAME: 20\n",
      "POS: 9483248\n",
      "MAQ: 27\n",
      "CIGAR: 76M\n",
      "MPOS 9483381\n",
      "ISSIZE 209\n",
      "SEQ: TTTTCAAACAGTATCTATGCCTGCCAAATGTGAACATATAAAAAAAAACCAGAATGTGCCATTCTGATTTAAACTG\n",
      "QUAL: ==<>@?@@>@D?>@C?>8JA5?>CC>?@???BB;H-:4A?D=DB8BDE?GBJCD@B8??E<A>CDJB@B>AA@@@C\n",
      "TAG XA : GL000217.1,-110754,76M,1;\n",
      "TAG BD : NNNNNNNNNNNNNNNNNNNNNNNNNNNNNNNNNNNNNNNNNNNNNNNNNNNNNNNNNNNNNNNNNNNNNNNNNNNN\n",
      "TAG MD : 76\n",
      "TAG RG : 1\n",
      "TAG BI : NNNNNNNNNNNNNNNNNNNNNNNNNNNNNNNNNNNNNNNNNNNNNNNNNNNNNNNNNNNNNNNNNNNNNNNNNNNN\n",
      "TAG NM : 0\n",
      "TAG MQ : 27\n",
      "TAG AS : 76\n",
      "TAG XS : 71\n",
      "FLAG INFO\n",
      "READ IS PAIRED: True\n",
      "READ IS UNMAPPED: False\n",
      "READ IS FIRST IN PAIR: False\n",
      "READ IS SECOND IN PAIR: True\n",
      "READ IS PCR OR DUPLICATE: True\n"
     ]
    }
   ],
   "source": [
    "for read in samfile:\n",
    "    print(\"QNAME:\",read.qname)\n",
    "    print(\"FLAG:\",read.flag)\n",
    "    print(\"RNAME:\",read.reference_id)\n",
    "    print(\"POS:\",read.pos)\n",
    "    print(\"MAQ:\",read.mapq)\n",
    "    print(\"CIGAR:\",read.cigarstring)\n",
    "    print(\"MPOS\",read.mpos)\n",
    "    print(\"ISSIZE\",read.isize)\n",
    "    print(\"SEQ:\",read.query_sequence)\n",
    "    print(\"QUAL:\",read.qual)\n",
    "    for tag in read.get_tags():\n",
    "        mark, val = tag\n",
    "        print(\"TAG\",mark,\":\",val)\n",
    "    print(\"FLAG INFO\")\n",
    "    print(\"READ IS PAIRED:\",read.is_paired)\n",
    "    print(\"READ IS UNMAPPED:\",read.is_unmapped)\n",
    "    print(\"READ IS FIRST IN PAIR:\",read.is_read1)\n",
    "    print(\"READ IS SECOND IN PAIR:\",read.is_read2)\n",
    "    print(\"READ IS PCR OR DUPLICATE:\",read.is_duplicate)\n",
    "    break"
   ]
  },
  {
   "cell_type": "markdown",
   "id": "cfc5b6f7-984d-45c6-a677-7d3d0418e457",
   "metadata": {
    "tags": []
   },
   "source": [
    "<p> Basic calculations </p>"
   ]
  },
  {
   "cell_type": "code",
   "execution_count": 11,
   "id": "b814adfa-f86f-4aa5-af64-1567f6dc55a1",
   "metadata": {
    "tags": []
   },
   "outputs": [
    {
     "name": "stdout",
     "output_type": "stream",
     "text": [
      "Number of unmapped reads: 17765\n",
      "Total number of reads: 2921628\n",
      "Number of reads with mapping quality 0: 126628\n",
      "Avarge mapping quality: 55.91380148328261\n",
      "Avarge mapping quality if reads with 0 map quality are filtred out: 58.446986762075134\n"
     ]
    }
   ],
   "source": [
    "read_count = 0\n",
    "total_mapq = 0\n",
    "unmapped_count = 0\n",
    "zero_count = 0\n",
    "mapq_total = 0\n",
    "mapq_total = 0\n",
    "zero_mapq = 0\n",
    "for read in samfile:\n",
    "    read_count+=1\n",
    "    total_mapq += read.mapq\n",
    "    if(read.is_unmapped): unmapped_count+=1\n",
    "    if(read.mapq==0): \n",
    "        zero_count+=1\n",
    "        zero_mapq+=read.mapq\n",
    "\n",
    "\n",
    "print(\"Number of unmapped reads:\",unmapped_count)\n",
    "print(\"Total number of reads:\",read_count)\n",
    "print(\"Number of reads with mapping quality 0:\",zero_count)\n",
    "print(\"Avarge mapping quality:\", total_mapq/read_count)\n",
    "print(\"Avarge mapping quality if reads with 0 map quality are filtred out:\", (total_mapq-zero_mapq)/(read_count-zero_count))\n",
    "\n",
    "    "
   ]
  },
  {
   "cell_type": "code",
   "execution_count": null,
   "id": "4a66e7d9-3d10-4174-8cb3-2dadcca24afb",
   "metadata": {},
   "outputs": [],
   "source": []
  }
 ],
 "metadata": {
  "kernelspec": {
   "display_name": "Python 3 (ipykernel)",
   "language": "python",
   "name": "python3"
  },
  "language_info": {
   "codemirror_mode": {
    "name": "ipython",
    "version": 3
   },
   "file_extension": ".py",
   "mimetype": "text/x-python",
   "name": "python",
   "nbconvert_exporter": "python",
   "pygments_lexer": "ipython3",
   "version": "3.9.10"
  }
 },
 "nbformat": 4,
 "nbformat_minor": 5
}
